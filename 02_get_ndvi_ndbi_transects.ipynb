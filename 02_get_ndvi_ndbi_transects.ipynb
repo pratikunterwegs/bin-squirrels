{
  "nbformat": 4,
  "nbformat_minor": 2,
  "metadata": {
    "colab": {
      "name": "02_get_ndvi_ndbi_transects.ipynb",
      "provenance": [],
      "collapsed_sections": []
    },
    "kernelspec": {
      "name": "python3",
      "display_name": "Python 3.8.10 64-bit ('gee': conda)"
    },
    "language_info": {
      "name": "python",
      "version": "3.8.10",
      "mimetype": "text/x-python",
      "codemirror_mode": {
        "name": "ipython",
        "version": 3
      },
      "pygments_lexer": "ipython3",
      "nbconvert_exporter": "python",
      "file_extension": ".py"
    },
    "interpreter": {
      "hash": "6b21d925dc9624810ca91fcc9d5b868a067dc24a39943604ca00ceb2efb98787"
    }
  },
  "cells": [
    {
      "cell_type": "code",
      "execution_count": 1,
      "source": [
        "# Installs geemap package\n",
        "import subprocess\n",
        "\n",
        "try:\n",
        "    import geemap\n",
        "except ImportError:\n",
        "    print('geemap package not installed. Installing ...')\n",
        "    subprocess.check_call([\"python\", '-m', 'pip', 'install', 'geemap'])\n",
        "\n",
        "# Checks whether this notebook is running on Google Colab\n",
        "try:\n",
        "    import google.colab\n",
        "    import geemap.eefolium as geemap\n",
        "except:\n",
        "    import geemap\n",
        "\n",
        "# Authenticates and initializes Earth Engine\n",
        "import ee\n",
        "\n",
        "try:\n",
        "    ee.Initialize()\n",
        "except Exception as e:\n",
        "    ee.Authenticate()\n",
        "    ee.Initialize()"
      ],
      "outputs": [],
      "metadata": {
        "id": "cL6MbU2F6wQT",
        "colab": {
          "base_uri": "https://localhost:8080/",
          "height": 193
        },
        "outputId": "d95a3a1b-a771-4f8b-e7ca-4537e5710ee2"
      }
    },
    {
      "cell_type": "code",
      "execution_count": 3,
      "source": [
        "# prelim code for earth engine landcover around duke\n",
        "\n",
        "# get transects from user assets\n",
        "transects = ee.FeatureCollection(\"users/pratik_unterwegs/squirrel_transect_bbox\")\n",
        "\n",
        "# get a 1km buffer\n",
        "transect_geom = transects.geometry()\n",
        "\n",
        "# define start and end date\n",
        "start_date = '2020-04-01'\n",
        "end_date = '2020-10-01'\n",
        "\n",
        "# filter sentinel by bounding box\n",
        "# get sentinel data\n",
        "sentinel = ee.ImageCollection(\"COPERNICUS/S2\")\n",
        "sentinel_bounds = sentinel.filterBounds(transect_geom)\n",
        "sentinel_2020 = sentinel_bounds.filterDate(start_date, end_date)\n",
        "\n",
        "# adding a NDVI band\n",
        "def add_ndvi(image):\n",
        "    ndvi = image.normalizedDifference(['B8', 'B4']).rename('ndvi')\n",
        "    return image.addBands([ndvi])\n",
        "\n",
        "\n",
        "# add an NDBI band\n",
        "def add_ndbi(image):\n",
        "    ndbi = image.normalizedDifference(['B11', 'B8']).rename('ndbi')\n",
        "    return image.addBands([ndbi])\n",
        "\n",
        "\n",
        "# map metrics over sentinel\n",
        "sentinel_ndvi = sentinel_2020.map(add_ndvi)\n",
        "sentinel_ndbi = sentinel_2020.map(add_ndbi)\n",
        "\n",
        "# get median values\n",
        "ndvi_median = sentinel_ndvi.select('ndvi').median()\n",
        "ndbi_median = sentinel_ndbi.select('ndbi').median()\n",
        "\n",
        "# clip to geometry\n",
        "ndvi_clip = ndvi_median.clip(transect_geom)\n",
        "ndbi_clip = ndbi_median.clip(transect_geom)"
      ],
      "outputs": [],
      "metadata": {
        "id": "V08-VG9drA4o"
      }
    },
    {
      "cell_type": "code",
      "execution_count": null,
      "source": [
        "# Define an sld style color ramp to apply to the image.\n",
        "sld_ramp = \\\n",
        "  '<RasterSymbolizer>' + \\\n",
        "    '<ColorMap type=\"ramp\" extended=\"false\" >' + \\\n",
        "      '<ColorMapEntry color=\"#0D0887\" quantity=\"-1\" label=\"0\"/>' + \\\n",
        "      '<ColorMapEntry color=\"#CC4678\" quantity=\"0\" label=\"300\" />' + \\\n",
        "      '<ColorMapEntry color=\"#F0F921\" quantity=\"0.5\" label=\"500\" />' + \\\n",
        "    '</ColorMap>' + \\\n",
        "  '</RasterSymbolizer>';\n",
        "\n",
        "# print layers\n",
        "vis = {'bands': ['ndvi']}\n",
        "Map = geemap.Map(center=[36.0005,-78.9], zoom=12)\n",
        "Map.addLayer(ndbi_clip.sldStyle(sld_ramp), {}, 'ndvi')\n",
        "Map.addLayer(transects)\n",
        "Map.addLayerControl()\n",
        "\n",
        "Map"
      ],
      "outputs": [],
      "metadata": {
        "id": "gcWWeobgJ3t8",
        "colab": {
          "base_uri": "https://localhost:8080/",
          "height": 1000
        },
        "outputId": "92da646b-c514-468b-c5f6-27efb9fcf65e"
      }
    },
    {
      "cell_type": "code",
      "execution_count": null,
      "source": [
        "# export image to drive\n",
        "downConfig = {'scale': 10, \"maxPixels\": 1.0E13, 'driveFolder': 'bin-squirrels'}  # scale means resolution.\n",
        "name = \"duke_transects_ndbi\"\n",
        "# print(name)\n",
        "task = ee.batch.Export.image(ndbi_clip, name, downConfig)\n",
        "task.start()\n",
        "\n",
        "# export ndvi to drive\n",
        "name_ndvi = \"duke_transects_ndvi\"\n",
        "# print(name)\n",
        "task_ndvi = ee.batch.Export.image(ndvi_clip, name_ndvi, downConfig)\n",
        "task_ndvi.start()\n"
      ],
      "outputs": [],
      "metadata": {
        "id": "q4UQ6yp8mo1S"
      }
    }
  ]
}